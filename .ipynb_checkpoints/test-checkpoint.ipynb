{
 "cells": [
  {
   "cell_type": "code",
   "execution_count": 1,
   "id": "54f258f4-9100-460f-96cc-0195fe242885",
   "metadata": {},
   "outputs": [
    {
     "name": "stderr",
     "output_type": "stream",
     "text": [
      "2022-12-26 14:30:40.514672: I tensorflow/core/util/util.cc:169] oneDNN custom operations are on. You may see slightly different numerical results due to floating-point round-off errors from different computation orders. To turn them off, set the environment variable `TF_ENABLE_ONEDNN_OPTS=0`.\n"
     ]
    }
   ],
   "source": [
    "# -*- coding: utf-8 -*\n",
    "from random import seed\n",
    "from tools import hio, util\n",
    "import matplotlib.pyplot as plt\n",
    "\n",
    "import torch\n",
    "from torch.utils.data import DataLoader, Dataset\n",
    "import torchvision.transforms as transforms\n",
    "import torch.nn as nn\n",
    "\n",
    "import numpy as np\n",
    "\n",
    "from learning.LearnModel import Learn_Model\n",
    "from models.ChoiceModel import Choice_Model"
   ]
  },
  {
   "cell_type": "code",
   "execution_count": 2,
   "id": "96ea7232-b60c-4520-a26a-d014687f7592",
   "metadata": {},
   "outputs": [],
   "source": [
    "# image data\n",
    "DEFAULT_HEIGHT = 64\n",
    "n_components = 311\n",
    "\n",
    "#target data\n",
    "Class = {\n",
    "    'Malignant' : 0,\n",
    "    'Benign' : 1\n",
    "}\n",
    "\n",
    "# learning setting\n",
    "# model_name = 'vggLike_3DCNN'\n",
    "model_name = 'ResNetLike_3DCNN'\n",
    "batch_size = 4\n",
    "learningRate = 0.001\n",
    "num_of_epoch = 100"
   ]
  },
  {
   "cell_type": "code",
   "execution_count": 3,
   "id": "2e5fac95-675d-4450-919b-02d4e76359ff",
   "metadata": {},
   "outputs": [
    {
     "name": "stdout",
     "output_type": "stream",
     "text": [
      "image data size (156, 64, 64, 401)\n",
      "label size (156,)\n",
      "xtrain:  156 , xtest:  12 ytrain:  156 , ytest:  12\n"
     ]
    }
   ],
   "source": [
    "x_train, x_test, y_train, y_test = hio.get_train_test_for_clasification(Class, height=DEFAULT_HEIGHT, n_components=n_components, is_split=True, show_image=True)"
   ]
  },
  {
   "cell_type": "code",
   "execution_count": 4,
   "id": "81ff7f28-73b8-4b38-88c2-3ad331ff17f9",
   "metadata": {},
   "outputs": [],
   "source": [
    "class medHSI_Dataset(Dataset):\n",
    "    def __init__(self, images, targets, transform, n_components=10):\n",
    "        self.images = images\n",
    "        self.targets = targets\n",
    "        self.transform = transform\n",
    "        self.n_components = n_components\n",
    "        \n",
    "    def __len__(self):\n",
    "        return len(self.targets)\n",
    "    \n",
    "    def __getitem__(self, index):\n",
    "        original_image = self.images[index]\n",
    "        image = self.transform(original_image)\n",
    "        image = self.decompose(image, n_components=self.n_components)\n",
    "        image = image.view(1, image.size(0),image.size(1),image.size(2))\n",
    "        \n",
    "        target = self.targets[index]\n",
    "        \n",
    "        dataset = {'image': image, 'target': target, 'original_image': original_image}\n",
    "        \n",
    "        return dataset\n",
    "        \n",
    "    def show_montage_dataset(self, channel=401, name='train'):\n",
    "        from tools import util\n",
    "        util.show_montage(self.images, channel=channel, savename=name+'_montage.jpg')\n",
    "    \n",
    "    def decompose(self, hsi, n_components=10):\n",
    "        print(hsi.size())\n",
    "        print(n_components)\n",
    "        numDecom = hsi.shape[0] - n_components\n",
    "        print(numDecom)\n",
    "        decom_hsi = hsi[numDecom//2:numDecom//2+n_components, :, :]\n",
    "        print(decom_hsi.size())\n",
    "        \n",
    "        return decom_hsi"
   ]
  },
  {
   "cell_type": "code",
   "execution_count": 5,
   "id": "c4bfcbcb-3e30-471b-8b95-fa3030f8c527",
   "metadata": {},
   "outputs": [],
   "source": [
    "target_class = list(Class.values())\n",
    "\n",
    "originalTransform = transforms.Compose(\n",
    "    [transforms.ToTensor(),\n",
    "     transforms.Normalize(tuple(util.Average_for_hsiList(x_train)), tuple(util.Std_for_hsiList(x_train)))])\n",
    "\n",
    "train_dataset = medHSI_Dataset(x_train, y_train, transform=originalTransform, n_components=n_components)\n",
    "train_dataset.show_montage_dataset(channel=401, name='train')\n",
    "test_dataset = medHSI_Dataset(x_test, y_test, transform=originalTransform, n_components=n_components)\n",
    "test_dataset.show_montage_dataset(channel=401, name='test')\n",
    "\n",
    "train_dataloader = DataLoader(train_dataset, batch_size=batch_size, shuffle=True)\n",
    "test_dataloader = DataLoader(test_dataset, batch_size=batch_size, shuffle=True)"
   ]
  },
  {
   "cell_type": "code",
   "execution_count": 6,
   "id": "999f3c68-e7c9-4d58-9931-7d5839969ad8",
   "metadata": {},
   "outputs": [
    {
     "name": "stdout",
     "output_type": "stream",
     "text": [
      "156 (64, 64, 401)\n"
     ]
    }
   ],
   "source": [
    "print(len(x_train), x_train[0].shape)"
   ]
  },
  {
   "cell_type": "code",
   "execution_count": 7,
   "id": "4dd12a2e-31ef-4c23-9142-e64e346f9c22",
   "metadata": {},
   "outputs": [
    {
     "name": "stdout",
     "output_type": "stream",
     "text": [
      "torch.Size([401, 64, 64])\n",
      "311\n",
      "90\n",
      "torch.Size([311, 64, 64])\n",
      "torch.Size([401, 64, 64])\n",
      "311\n",
      "90\n",
      "torch.Size([311, 64, 64])\n",
      "torch.Size([401, 64, 64])\n",
      "311\n",
      "90\n",
      "torch.Size([311, 64, 64])\n",
      "torch.Size([401, 64, 64])\n",
      "311\n",
      "90\n",
      "torch.Size([311, 64, 64])\n",
      "3\n",
      "torch.Size([4, 1, 311, 64, 64])\n",
      "torch.Size([4])\n",
      "torch.Size([401, 64, 64])\n",
      "311\n",
      "90\n",
      "torch.Size([311, 64, 64])\n",
      "torch.Size([401, 64, 64])\n",
      "311\n",
      "90\n",
      "torch.Size([311, 64, 64])\n",
      "torch.Size([401, 64, 64])\n",
      "311\n",
      "90\n",
      "torch.Size([311, 64, 64])\n",
      "torch.Size([401, 64, 64])\n",
      "311\n",
      "90\n",
      "torch.Size([311, 64, 64])\n",
      "3\n",
      "torch.Size([4, 1, 311, 64, 64])\n",
      "torch.Size([4])\n",
      "torch.Size([401, 64, 64])\n",
      "311\n",
      "90\n",
      "torch.Size([311, 64, 64])\n",
      "torch.Size([401, 64, 64])\n",
      "311\n",
      "90\n",
      "torch.Size([311, 64, 64])\n",
      "torch.Size([401, 64, 64])\n",
      "311\n",
      "90\n",
      "torch.Size([311, 64, 64])\n",
      "torch.Size([401, 64, 64])\n",
      "311\n",
      "90\n",
      "torch.Size([311, 64, 64])\n",
      "3\n",
      "torch.Size([4, 1, 311, 64, 64])\n",
      "torch.Size([4])\n"
     ]
    }
   ],
   "source": [
    "show_image = []\n",
    "for data in test_dataloader:\n",
    "    print(len(data))\n",
    "    print(data['image'].size())\n",
    "    print(data['target'].size())"
   ]
  },
  {
   "cell_type": "code",
   "execution_count": 15,
   "id": "cb118080-c7c9-42f4-9ddf-e228d63c18a2",
   "metadata": {},
   "outputs": [
    {
     "name": "stdout",
     "output_type": "stream",
     "text": [
      "torch.Size([401, 64, 64])\n",
      "311\n",
      "90\n",
      "torch.Size([311, 64, 64])\n",
      "torch.Size([401, 64, 64])\n",
      "311\n",
      "90\n",
      "torch.Size([311, 64, 64])\n",
      "torch.Size([401, 64, 64])\n",
      "311\n",
      "90\n",
      "torch.Size([311, 64, 64])\n",
      "torch.Size([401, 64, 64])\n",
      "311\n",
      "90\n",
      "torch.Size([311, 64, 64])\n"
     ]
    }
   ],
   "source": [
    "dataloader = test_dataloader.__iter__()\n",
    "dataset = dataloader.next()\n",
    "images = dataset['image']"
   ]
  },
  {
   "cell_type": "code",
   "execution_count": 17,
   "id": "73186de5-b771-4cab-9104-94da2a8f212b",
   "metadata": {},
   "outputs": [
    {
     "data": {
      "text/plain": [
       "<matplotlib.image.AxesImage at 0x14bb09b2e940>"
      ]
     },
     "execution_count": 17,
     "metadata": {},
     "output_type": "execute_result"
    },
    {
     "data": {
      "image/png": "[encoded data removed]",
      "text/plain": [
       "<Figure size 640x480 with 1 Axes>"
      ]
     },
     "metadata": {},
     "output_type": "display_data"
    }
   ],
   "source": [
    "plt.imshow(images[1,0,0],cmap='gray')"
   ]
  },
  {
   "cell_type": "code",
   "execution_count": 21,
   "id": "6de46293-f390-4e9a-ba35-43233681d45a",
   "metadata": {},
   "outputs": [
    {
     "name": "stdout",
     "output_type": "stream",
     "text": [
      "[3]\n"
     ]
    }
   ],
   "source": [
    "import numpy as np\n",
    "a = np.array([]).astype('int')\n",
    "a = np.append(a, 3)\n",
    "print(a)"
   ]
  },
  {
   "cell_type": "code",
   "execution_count": 3,
   "id": "73dda9f8-aa12-46e3-bc3f-a7f00e7ddbff",
   "metadata": {},
   "outputs": [
    {
     "name": "stdout",
     "output_type": "stream",
     "text": [
      "1.0\n"
     ]
    }
   ],
   "source": [
    "import torch\n",
    "a = torch.zeros(2, 3, 4)\n",
    "print(a.size(0)/2)"
   ]
  },
  {
   "cell_type": "code",
   "execution_count": 1,
   "id": "cea33426-d95c-4794-9c5e-01117d086ee1",
   "metadata": {},
   "outputs": [
    {
     "name": "stdout",
     "output_type": "stream",
     "text": [
      "0\n"
     ]
    }
   ],
   "source": [
    "a = 10\n",
    "print(a%5)"
   ]
  },
  {
   "cell_type": "code",
   "execution_count": null,
   "id": "95546d8f-952e-48b5-8e88-c9ab538df39c",
   "metadata": {},
   "outputs": [],
   "source": []
  }
 ],
 "metadata": {
  "kernelspec": {
   "display_name": "Python 3 (ipykernel)",
   "language": "python",
   "name": "python3"
  },
  "language_info": {
   "codemirror_mode": {
    "name": "ipython",
    "version": 3
   },
   "file_extension": ".py",
   "mimetype": "text/x-python",
   "name": "python",
   "nbconvert_exporter": "python",
   "pygments_lexer": "ipython3",
   "version": "3.8.8"
  }
 },
 "nbformat": 4,
 "nbformat_minor": 5
}
